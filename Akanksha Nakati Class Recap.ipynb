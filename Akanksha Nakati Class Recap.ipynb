{
 "cells": [
  {
   "cell_type": "markdown",
   "id": "92a9fc52",
   "metadata": {},
   "source": [
    "# Class Recap\n",
    "\n",
    "## Objective\n",
    "\n",
    "The objective of this assignment is to help students understand the importance of data quality for machine learning, particularly focusing on data cleaning ,data profiling, data normalization, handling missing data and imputation techniques. Through a motivating example, students will learn to apply their knowledge and create a practical notebook that demonstrates their proficiency in ensuring high-quality data for machine learning tasks.\n",
    "\n",
    "## Abstract\n",
    "\n",
    "Heart disease is a leading cause of morbidity and mortality worldwide, presenting a significant challenge to global health. Early detection and intervention are key to improving patient outcomes. \n",
    "\n",
    "## Dataset\n",
    "\n",
    "This dataset encapsulates a range of clinical parameters observed in individuals, potentially linked to the presence or risk of heart disease. It includes attributes such as age, gender, chest pain type (cp), resting blood pressure (trtbps), cholesterol levels (chol), fasting blood sugar (fbs), resting electrocardiographic results (restecg), maximum heart rate achieved (thalachh), exercise-induced angina (exng), ST depression induced by exercise relative to rest (oldpeak), the slope of the peak exercise ST segment (slp), number of major vessels colored by fluoroscopy (caa), and thallium stress test result (thall). The output column indicates the presence of heart disease.\n",
    "\n"
   ]
  },
  {
   "cell_type": "markdown",
   "id": "debfd7f7",
   "metadata": {},
   "source": [
    "## Theoretical Foundation of Data Quality in Machine Learning\n",
    "\n",
    "### 1. Data Cleaning\n",
    "Data cleaning is a critical step in the data science process. It involves identifying and correcting (or removing) errors and inconsistencies in data to improve its quality. This includes handling outliers, incorrect entries, and formatting issues. Clean data is crucial for building reliable models.\n",
    "\n",
    "### 2. Data Profiling\n",
    "Data profiling involves examining the data available in an existing source and collecting statistics and information about that data. This process is vital for understanding the characteristics of data, including patterns, uniqueness, and distribution, which can influence subsequent analysis.\n",
    "\n",
    "### 3. Data Normalization\n",
    "Data normalization is a process that organizes data to reduce redundancy and improve data integrity. It often involves restructuring a database to reduce duplication and improve data efficiency, which is crucial for large datasets.\n",
    "\n",
    "### 4. Handling Missing Data\n",
    "Missing data can significantly impact the quality of analyses in data science. Identifying and addressing gaps in data are essential for maintaining the integrity of the dataset. Missing data can lead to biased estimates and incorrect conclusions.\n",
    "\n",
    "### 5. Imputation Techniques\n",
    "Imputation techniques are methods used to fill in missing or incomplete data. These techniques range from simple approaches, like filling missing values with the mean or median, to more complex algorithms. Proper imputation helps in maintaining the quality and usability of the dataset in analyses.\n"
   ]
  },
  {
   "cell_type": "markdown",
   "id": "3e14d0de",
   "metadata": {},
   "source": [
    "\n",
    "## Introduction to the Worked Example Problem: Heart Disease Prediction\n",
    "\n",
    "Heart disease remains one of the leading causes of death globally, presenting significant challenges to healthcare systems. Early prediction and diagnosis of heart disease can lead to more effective treatment and management, potentially saving lives. Data science plays a crucial role in this area by leveraging patient data to predict heart disease.\n",
    "\n",
    "In this example, we explore a dataset comprising various medical attributes of patients, such as age, cholesterol levels, heart rate, and more. The goal is to analyze this data to identify patterns and factors that contribute to heart disease. By applying data cleaning, profiling, normalization, and handling missing data, we aim to prepare the dataset for machine learning models that can predict the likelihood of heart disease in patients.\n",
    "\n",
    "This problem is representative of real-world applications in healthcare data science, where the quality and preparation of data are critical for accurate predictions. \n"
   ]
  },
  {
   "cell_type": "markdown",
   "id": "3b42fc7e",
   "metadata": {},
   "source": [
    "# Data Profiling"
   ]
  },
  {
   "cell_type": "markdown",
   "id": "c84f82b6",
   "metadata": {},
   "source": [
    "Let's start with importing all the required libraries and the dataset for analyzing and checking the quality of data. "
   ]
  },
  {
   "cell_type": "code",
   "execution_count": 2,
   "id": "3df88d27",
   "metadata": {},
   "outputs": [],
   "source": [
    "#importing all the required libraries\n",
    "import pandas as pd\n",
    "from scipy import stats\n",
    "import numpy as np\n",
    "import matplotlib.pyplot as plt\n",
    "from sklearn.preprocessing import StandardScaler\n",
    "from sklearn.model_selection import train_test_split\n",
    "from scipy.stats import ttest_ind, chi2_contingency\n",
    "from sklearn.linear_model import LogisticRegression\n",
    "from sklearn.metrics import accuracy_score, precision_score, recall_score, confusion_matrix\n",
    "from sklearn.ensemble import RandomForestClassifier\n",
    "from sklearn.svm import SVC"
   ]
  },
  {
   "cell_type": "code",
   "execution_count": 3,
   "id": "c75abd4b",
   "metadata": {},
   "outputs": [],
   "source": [
    "# Loading the dataset\n",
    "file_path = 'heart.csv'\n",
    "heart_data = pd.read_csv(file_path)"
   ]
  },
  {
   "cell_type": "markdown",
   "id": "936144c3",
   "metadata": {},
   "source": [
    "Now, we will proceed with the data cleaning and profiling for the Heart Disease Dataset. This step is crucial to ensure the quality of our data before applying any machine learning techniques. \n",
    "First we will, check for any missing values."
   ]
  },
  {
   "cell_type": "code",
   "execution_count": 4,
   "id": "c236d0ea",
   "metadata": {},
   "outputs": [
    {
     "data": {
      "text/plain": [
       "{'Number of Rows': 303,\n",
       " 'Number of Columns': 14,\n",
       " 'First 5 Rows':    age  sex  cp  trtbps  chol  fbs  restecg  thalachh  exng  oldpeak  slp  \\\n",
       " 0   63    1   3     145   233    1        0       150     0      2.3    0   \n",
       " 1   37    1   2     130   250    0        1       187     0      3.5    0   \n",
       " 2   41    0   1     130   204    0        0       172     0      1.4    2   \n",
       " 3   56    1   1     120   236    0        1       178     0      0.8    2   \n",
       " 4   57    0   0     120   354    0        1       163     1      0.6    2   \n",
       " \n",
       "    caa  thall  output  \n",
       " 0    0      1       1  \n",
       " 1    0      2       1  \n",
       " 2    0      2       1  \n",
       " 3    0      2       1  \n",
       " 4    0      2       1  }"
      ]
     },
     "execution_count": 4,
     "metadata": {},
     "output_type": "execute_result"
    }
   ],
   "source": [
    "# Displaying basic information about the dataset\n",
    "dataset_info = {\n",
    "    \"Number of Rows\": heart_data.shape[0],\n",
    "    \"Number of Columns\": heart_data.shape[1],\n",
    "    \"First 5 Rows\": heart_data.head()\n",
    "}\n",
    "\n",
    "dataset_info"
   ]
  },
  {
   "cell_type": "markdown",
   "id": "8ea72b46",
   "metadata": {},
   "source": [
    "# Handling Missing Data"
   ]
  },
  {
   "cell_type": "code",
   "execution_count": 5,
   "id": "96f02a8e",
   "metadata": {},
   "outputs": [
    {
     "data": {
      "text/plain": [
       "age         0\n",
       "sex         0\n",
       "cp          0\n",
       "trtbps      0\n",
       "chol        0\n",
       "fbs         0\n",
       "restecg     0\n",
       "thalachh    0\n",
       "exng        0\n",
       "oldpeak     0\n",
       "slp         0\n",
       "caa         0\n",
       "thall       0\n",
       "output      0\n",
       "dtype: int64"
      ]
     },
     "execution_count": 5,
     "metadata": {},
     "output_type": "execute_result"
    }
   ],
   "source": [
    "# Checking for missing values\n",
    "heart_data.isnull().sum()\n"
   ]
  },
  {
   "cell_type": "markdown",
   "id": "9d1cd754",
   "metadata": {},
   "source": [
    "There are no missing or NaN values in any of the columns. Handling Missing Data cannot be performed as there are no missing values."
   ]
  },
  {
   "cell_type": "code",
   "execution_count": 6,
   "id": "67fdcd06",
   "metadata": {},
   "outputs": [
    {
     "data": {
      "text/plain": [
       "age           int64\n",
       "sex           int64\n",
       "cp            int64\n",
       "trtbps        int64\n",
       "chol          int64\n",
       "fbs           int64\n",
       "restecg       int64\n",
       "thalachh      int64\n",
       "exng          int64\n",
       "oldpeak     float64\n",
       "slp           int64\n",
       "caa           int64\n",
       "thall         int64\n",
       "output        int64\n",
       "dtype: object"
      ]
     },
     "execution_count": 6,
     "metadata": {},
     "output_type": "execute_result"
    }
   ],
   "source": [
    "# Examining data types\n",
    "heart_data.dtypes"
   ]
  },
  {
   "cell_type": "markdown",
   "id": "9e6811a0",
   "metadata": {},
   "source": [
    "Most of the columns are of integer type (int64), while 'oldpeak' is a floating-point number (float64).\n",
    "This indicates that the dataset primarily contains numerical data."
   ]
  },
  {
   "cell_type": "code",
   "execution_count": 7,
   "id": "ff6c182d",
   "metadata": {},
   "outputs": [
    {
     "data": {
      "text/html": [
       "<div>\n",
       "<style scoped>\n",
       "    .dataframe tbody tr th:only-of-type {\n",
       "        vertical-align: middle;\n",
       "    }\n",
       "\n",
       "    .dataframe tbody tr th {\n",
       "        vertical-align: top;\n",
       "    }\n",
       "\n",
       "    .dataframe thead th {\n",
       "        text-align: right;\n",
       "    }\n",
       "</style>\n",
       "<table border=\"1\" class=\"dataframe\">\n",
       "  <thead>\n",
       "    <tr style=\"text-align: right;\">\n",
       "      <th></th>\n",
       "      <th>age</th>\n",
       "      <th>sex</th>\n",
       "      <th>cp</th>\n",
       "      <th>trtbps</th>\n",
       "      <th>chol</th>\n",
       "      <th>fbs</th>\n",
       "      <th>restecg</th>\n",
       "      <th>thalachh</th>\n",
       "      <th>exng</th>\n",
       "      <th>oldpeak</th>\n",
       "      <th>slp</th>\n",
       "      <th>caa</th>\n",
       "      <th>thall</th>\n",
       "      <th>output</th>\n",
       "    </tr>\n",
       "  </thead>\n",
       "  <tbody>\n",
       "    <tr>\n",
       "      <th>count</th>\n",
       "      <td>303.000000</td>\n",
       "      <td>303.000000</td>\n",
       "      <td>303.000000</td>\n",
       "      <td>303.000000</td>\n",
       "      <td>303.000000</td>\n",
       "      <td>303.000000</td>\n",
       "      <td>303.000000</td>\n",
       "      <td>303.000000</td>\n",
       "      <td>303.000000</td>\n",
       "      <td>303.000000</td>\n",
       "      <td>303.000000</td>\n",
       "      <td>303.000000</td>\n",
       "      <td>303.000000</td>\n",
       "      <td>303.000000</td>\n",
       "    </tr>\n",
       "    <tr>\n",
       "      <th>mean</th>\n",
       "      <td>54.366337</td>\n",
       "      <td>0.683168</td>\n",
       "      <td>0.966997</td>\n",
       "      <td>131.623762</td>\n",
       "      <td>246.264026</td>\n",
       "      <td>0.148515</td>\n",
       "      <td>0.528053</td>\n",
       "      <td>149.646865</td>\n",
       "      <td>0.326733</td>\n",
       "      <td>1.039604</td>\n",
       "      <td>1.399340</td>\n",
       "      <td>0.729373</td>\n",
       "      <td>2.313531</td>\n",
       "      <td>0.544554</td>\n",
       "    </tr>\n",
       "    <tr>\n",
       "      <th>std</th>\n",
       "      <td>9.082101</td>\n",
       "      <td>0.466011</td>\n",
       "      <td>1.032052</td>\n",
       "      <td>17.538143</td>\n",
       "      <td>51.830751</td>\n",
       "      <td>0.356198</td>\n",
       "      <td>0.525860</td>\n",
       "      <td>22.905161</td>\n",
       "      <td>0.469794</td>\n",
       "      <td>1.161075</td>\n",
       "      <td>0.616226</td>\n",
       "      <td>1.022606</td>\n",
       "      <td>0.612277</td>\n",
       "      <td>0.498835</td>\n",
       "    </tr>\n",
       "    <tr>\n",
       "      <th>min</th>\n",
       "      <td>29.000000</td>\n",
       "      <td>0.000000</td>\n",
       "      <td>0.000000</td>\n",
       "      <td>94.000000</td>\n",
       "      <td>126.000000</td>\n",
       "      <td>0.000000</td>\n",
       "      <td>0.000000</td>\n",
       "      <td>71.000000</td>\n",
       "      <td>0.000000</td>\n",
       "      <td>0.000000</td>\n",
       "      <td>0.000000</td>\n",
       "      <td>0.000000</td>\n",
       "      <td>0.000000</td>\n",
       "      <td>0.000000</td>\n",
       "    </tr>\n",
       "    <tr>\n",
       "      <th>25%</th>\n",
       "      <td>47.500000</td>\n",
       "      <td>0.000000</td>\n",
       "      <td>0.000000</td>\n",
       "      <td>120.000000</td>\n",
       "      <td>211.000000</td>\n",
       "      <td>0.000000</td>\n",
       "      <td>0.000000</td>\n",
       "      <td>133.500000</td>\n",
       "      <td>0.000000</td>\n",
       "      <td>0.000000</td>\n",
       "      <td>1.000000</td>\n",
       "      <td>0.000000</td>\n",
       "      <td>2.000000</td>\n",
       "      <td>0.000000</td>\n",
       "    </tr>\n",
       "    <tr>\n",
       "      <th>50%</th>\n",
       "      <td>55.000000</td>\n",
       "      <td>1.000000</td>\n",
       "      <td>1.000000</td>\n",
       "      <td>130.000000</td>\n",
       "      <td>240.000000</td>\n",
       "      <td>0.000000</td>\n",
       "      <td>1.000000</td>\n",
       "      <td>153.000000</td>\n",
       "      <td>0.000000</td>\n",
       "      <td>0.800000</td>\n",
       "      <td>1.000000</td>\n",
       "      <td>0.000000</td>\n",
       "      <td>2.000000</td>\n",
       "      <td>1.000000</td>\n",
       "    </tr>\n",
       "    <tr>\n",
       "      <th>75%</th>\n",
       "      <td>61.000000</td>\n",
       "      <td>1.000000</td>\n",
       "      <td>2.000000</td>\n",
       "      <td>140.000000</td>\n",
       "      <td>274.500000</td>\n",
       "      <td>0.000000</td>\n",
       "      <td>1.000000</td>\n",
       "      <td>166.000000</td>\n",
       "      <td>1.000000</td>\n",
       "      <td>1.600000</td>\n",
       "      <td>2.000000</td>\n",
       "      <td>1.000000</td>\n",
       "      <td>3.000000</td>\n",
       "      <td>1.000000</td>\n",
       "    </tr>\n",
       "    <tr>\n",
       "      <th>max</th>\n",
       "      <td>77.000000</td>\n",
       "      <td>1.000000</td>\n",
       "      <td>3.000000</td>\n",
       "      <td>200.000000</td>\n",
       "      <td>564.000000</td>\n",
       "      <td>1.000000</td>\n",
       "      <td>2.000000</td>\n",
       "      <td>202.000000</td>\n",
       "      <td>1.000000</td>\n",
       "      <td>6.200000</td>\n",
       "      <td>2.000000</td>\n",
       "      <td>4.000000</td>\n",
       "      <td>3.000000</td>\n",
       "      <td>1.000000</td>\n",
       "    </tr>\n",
       "  </tbody>\n",
       "</table>\n",
       "</div>"
      ],
      "text/plain": [
       "              age         sex          cp      trtbps        chol         fbs  \\\n",
       "count  303.000000  303.000000  303.000000  303.000000  303.000000  303.000000   \n",
       "mean    54.366337    0.683168    0.966997  131.623762  246.264026    0.148515   \n",
       "std      9.082101    0.466011    1.032052   17.538143   51.830751    0.356198   \n",
       "min     29.000000    0.000000    0.000000   94.000000  126.000000    0.000000   \n",
       "25%     47.500000    0.000000    0.000000  120.000000  211.000000    0.000000   \n",
       "50%     55.000000    1.000000    1.000000  130.000000  240.000000    0.000000   \n",
       "75%     61.000000    1.000000    2.000000  140.000000  274.500000    0.000000   \n",
       "max     77.000000    1.000000    3.000000  200.000000  564.000000    1.000000   \n",
       "\n",
       "          restecg    thalachh        exng     oldpeak         slp         caa  \\\n",
       "count  303.000000  303.000000  303.000000  303.000000  303.000000  303.000000   \n",
       "mean     0.528053  149.646865    0.326733    1.039604    1.399340    0.729373   \n",
       "std      0.525860   22.905161    0.469794    1.161075    0.616226    1.022606   \n",
       "min      0.000000   71.000000    0.000000    0.000000    0.000000    0.000000   \n",
       "25%      0.000000  133.500000    0.000000    0.000000    1.000000    0.000000   \n",
       "50%      1.000000  153.000000    0.000000    0.800000    1.000000    0.000000   \n",
       "75%      1.000000  166.000000    1.000000    1.600000    2.000000    1.000000   \n",
       "max      2.000000  202.000000    1.000000    6.200000    2.000000    4.000000   \n",
       "\n",
       "            thall      output  \n",
       "count  303.000000  303.000000  \n",
       "mean     2.313531    0.544554  \n",
       "std      0.612277    0.498835  \n",
       "min      0.000000    0.000000  \n",
       "25%      2.000000    0.000000  \n",
       "50%      2.000000    1.000000  \n",
       "75%      3.000000    1.000000  \n",
       "max      3.000000    1.000000  "
      ]
     },
     "execution_count": 7,
     "metadata": {},
     "output_type": "execute_result"
    }
   ],
   "source": [
    "# Statistical summary\n",
    "heart_data.describe()"
   ]
  },
  {
   "cell_type": "markdown",
   "id": "187ebe5e",
   "metadata": {},
   "source": [
    "The dataset provides a variety of measurements like age, blood pressure (trtbps), cholesterol levels (chol), etc.\n",
    "The mean, standard deviation, minimum, and maximum values for each attribute can give us insights into their distribution. For example, the 'chol' (cholesterol) column has a mean of around 246 with a standard deviation of 51.83, indicating variability in cholesterol levels among patients."
   ]
  },
  {
   "cell_type": "markdown",
   "id": "44221d7c",
   "metadata": {},
   "source": [
    "# Data Cleaning"
   ]
  },
  {
   "cell_type": "markdown",
   "id": "93013816",
   "metadata": {},
   "source": [
    "We'll now proceed with the outlier analysis and data normalization. Outliers can significantly affect the performance of machine learning models, and normalization ensures that all features contribute equally to the result.\n",
    "We will use the Interquartile Range (IQR) method for outlier detection. This method involves calculating the IQR (the difference between the 75th and 25th percentiles) and identifying values that fall significantly outside the IQR."
   ]
  },
  {
   "cell_type": "code",
   "execution_count": 8,
   "id": "109f0e85",
   "metadata": {},
   "outputs": [
    {
     "data": {
      "text/plain": [
       "age          0\n",
       "sex          0\n",
       "cp           0\n",
       "trtbps       9\n",
       "chol         5\n",
       "fbs         45\n",
       "restecg      0\n",
       "thalachh     1\n",
       "exng         0\n",
       "oldpeak      5\n",
       "slp          0\n",
       "caa         25\n",
       "thall        2\n",
       "output       0\n",
       "dtype: int64"
      ]
     },
     "execution_count": 8,
     "metadata": {},
     "output_type": "execute_result"
    }
   ],
   "source": [
    "# Outlier detection using IQR\n",
    "Q1 = heart_data.quantile(0.25)\n",
    "Q3 = heart_data.quantile(0.75)\n",
    "IQR = Q3 - Q1\n",
    "outliers = ((heart_data < (Q1 - 1.5 * IQR)) | (heart_data > (Q3 + 1.5 * IQR))).sum()\n",
    "outliers"
   ]
  },
  {
   "cell_type": "markdown",
   "id": "1f331f46",
   "metadata": {},
   "source": [
    "'trtbps' (resting blood pressure): 9 outliers\n",
    "'chol' (cholesterol): 5 outliers\n",
    "'fbs' (fasting blood sugar): 45 outliers\n",
    "'thalachh' (maximum heart rate achieved): 1 outlier\n",
    "'oldpeak' (ST depression induced by exercise relative to rest): 5 outliers\n",
    "'caa' (number of major vessels colored by fluoroscopy): 25 outliers\n",
    "'thall' (thalassemia): 2 outliers\n"
   ]
  },
  {
   "cell_type": "markdown",
   "id": "18a8c984",
   "metadata": {},
   "source": [
    "# Data Normalization"
   ]
  },
  {
   "cell_type": "markdown",
   "id": "435db3af",
   "metadata": {},
   "source": [
    "We will normalize features like 'trtbps', 'chol', and 'thalachh'. Normalization is important as these features have different scales and units, and bringing them to a similar scale will improve model performance. We'll use StandardScaler from scikit-learn for normalization."
   ]
  },
  {
   "cell_type": "code",
   "execution_count": 9,
   "id": "acba9d45",
   "metadata": {},
   "outputs": [
    {
     "data": {
      "text/html": [
       "<div>\n",
       "<style scoped>\n",
       "    .dataframe tbody tr th:only-of-type {\n",
       "        vertical-align: middle;\n",
       "    }\n",
       "\n",
       "    .dataframe tbody tr th {\n",
       "        vertical-align: top;\n",
       "    }\n",
       "\n",
       "    .dataframe thead th {\n",
       "        text-align: right;\n",
       "    }\n",
       "</style>\n",
       "<table border=\"1\" class=\"dataframe\">\n",
       "  <thead>\n",
       "    <tr style=\"text-align: right;\">\n",
       "      <th></th>\n",
       "      <th>age</th>\n",
       "      <th>sex</th>\n",
       "      <th>cp</th>\n",
       "      <th>trtbps</th>\n",
       "      <th>chol</th>\n",
       "      <th>fbs</th>\n",
       "      <th>restecg</th>\n",
       "      <th>thalachh</th>\n",
       "      <th>exng</th>\n",
       "      <th>oldpeak</th>\n",
       "      <th>slp</th>\n",
       "      <th>caa</th>\n",
       "      <th>thall</th>\n",
       "      <th>output</th>\n",
       "    </tr>\n",
       "  </thead>\n",
       "  <tbody>\n",
       "    <tr>\n",
       "      <th>0</th>\n",
       "      <td>63</td>\n",
       "      <td>1</td>\n",
       "      <td>3</td>\n",
       "      <td>0.763956</td>\n",
       "      <td>-0.256334</td>\n",
       "      <td>1</td>\n",
       "      <td>0</td>\n",
       "      <td>0.015443</td>\n",
       "      <td>0</td>\n",
       "      <td>2.3</td>\n",
       "      <td>0</td>\n",
       "      <td>0</td>\n",
       "      <td>1</td>\n",
       "      <td>1</td>\n",
       "    </tr>\n",
       "    <tr>\n",
       "      <th>1</th>\n",
       "      <td>37</td>\n",
       "      <td>1</td>\n",
       "      <td>2</td>\n",
       "      <td>-0.092738</td>\n",
       "      <td>0.072199</td>\n",
       "      <td>0</td>\n",
       "      <td>1</td>\n",
       "      <td>1.633471</td>\n",
       "      <td>0</td>\n",
       "      <td>3.5</td>\n",
       "      <td>0</td>\n",
       "      <td>0</td>\n",
       "      <td>2</td>\n",
       "      <td>1</td>\n",
       "    </tr>\n",
       "    <tr>\n",
       "      <th>2</th>\n",
       "      <td>41</td>\n",
       "      <td>0</td>\n",
       "      <td>1</td>\n",
       "      <td>-0.092738</td>\n",
       "      <td>-0.816773</td>\n",
       "      <td>0</td>\n",
       "      <td>0</td>\n",
       "      <td>0.977514</td>\n",
       "      <td>0</td>\n",
       "      <td>1.4</td>\n",
       "      <td>2</td>\n",
       "      <td>0</td>\n",
       "      <td>2</td>\n",
       "      <td>1</td>\n",
       "    </tr>\n",
       "    <tr>\n",
       "      <th>3</th>\n",
       "      <td>56</td>\n",
       "      <td>1</td>\n",
       "      <td>1</td>\n",
       "      <td>-0.663867</td>\n",
       "      <td>-0.198357</td>\n",
       "      <td>0</td>\n",
       "      <td>1</td>\n",
       "      <td>1.239897</td>\n",
       "      <td>0</td>\n",
       "      <td>0.8</td>\n",
       "      <td>2</td>\n",
       "      <td>0</td>\n",
       "      <td>2</td>\n",
       "      <td>1</td>\n",
       "    </tr>\n",
       "    <tr>\n",
       "      <th>4</th>\n",
       "      <td>57</td>\n",
       "      <td>0</td>\n",
       "      <td>0</td>\n",
       "      <td>-0.663867</td>\n",
       "      <td>2.082050</td>\n",
       "      <td>0</td>\n",
       "      <td>1</td>\n",
       "      <td>0.583939</td>\n",
       "      <td>1</td>\n",
       "      <td>0.6</td>\n",
       "      <td>2</td>\n",
       "      <td>0</td>\n",
       "      <td>2</td>\n",
       "      <td>1</td>\n",
       "    </tr>\n",
       "  </tbody>\n",
       "</table>\n",
       "</div>"
      ],
      "text/plain": [
       "   age  sex  cp    trtbps      chol  fbs  restecg  thalachh  exng  oldpeak  \\\n",
       "0   63    1   3  0.763956 -0.256334    1        0  0.015443     0      2.3   \n",
       "1   37    1   2 -0.092738  0.072199    0        1  1.633471     0      3.5   \n",
       "2   41    0   1 -0.092738 -0.816773    0        0  0.977514     0      1.4   \n",
       "3   56    1   1 -0.663867 -0.198357    0        1  1.239897     0      0.8   \n",
       "4   57    0   0 -0.663867  2.082050    0        1  0.583939     1      0.6   \n",
       "\n",
       "   slp  caa  thall  output  \n",
       "0    0    0      1       1  \n",
       "1    0    0      2       1  \n",
       "2    2    0      2       1  \n",
       "3    2    0      2       1  \n",
       "4    2    0      2       1  "
      ]
     },
     "execution_count": 9,
     "metadata": {},
     "output_type": "execute_result"
    }
   ],
   "source": [
    "# Data Normalization using StandardScaler\n",
    "scaler = StandardScaler()\n",
    "scaled_features = ['trtbps', 'chol', 'thalachh']\n",
    "heart_data_scaled = heart_data.copy()\n",
    "heart_data_scaled[scaled_features] = scaler.fit_transform(heart_data[scaled_features])\n",
    "heart_data_scaled.head()"
   ]
  },
  {
   "cell_type": "markdown",
   "id": "94d18e3f",
   "metadata": {},
   "source": [
    "The features 'trtbps', 'chol', and 'thalachh' have been scaled using StandardScaler. This brings these features onto a similar scale, improving the consistency of the data for machine learning models."
   ]
  },
  {
   "cell_type": "markdown",
   "id": "376b33f5",
   "metadata": {},
   "source": [
    "# Handling Outliers"
   ]
  },
  {
   "cell_type": "markdown",
   "id": "ef84a2a9",
   "metadata": {},
   "source": [
    "Let's implement capping of outliers. We will cap the values at the 5th and 95th percentiles for the columns with outliers. This approach will reduce the impact of extreme outliers while preserving the majority of the data. "
   ]
  },
  {
   "cell_type": "code",
   "execution_count": 10,
   "id": "8bd5ad4a",
   "metadata": {},
   "outputs": [],
   "source": [
    "# Capping outliers at the 5th and 95th percentiles\n",
    "for column in outliers.index[outliers > 0]:\n",
    "    lower_bound = heart_data[column].quantile(0.05)\n",
    "    upper_bound = heart_data[column].quantile(0.95)\n",
    "    heart_data[column] = np.clip(heart_data[column], lower_bound, upper_bound)"
   ]
  },
  {
   "cell_type": "code",
   "execution_count": 11,
   "id": "faf826f1",
   "metadata": {},
   "outputs": [
    {
     "data": {
      "text/plain": [
       "age          0\n",
       "sex          0\n",
       "cp           0\n",
       "trtbps       0\n",
       "chol         0\n",
       "fbs         45\n",
       "restecg      0\n",
       "thalachh     0\n",
       "exng         0\n",
       "oldpeak      0\n",
       "slp          0\n",
       "caa         25\n",
       "thall        0\n",
       "output       0\n",
       "dtype: int64"
      ]
     },
     "execution_count": 11,
     "metadata": {},
     "output_type": "execute_result"
    }
   ],
   "source": [
    "# Rechecking for outliers after capping\n",
    "outliers_post_capping = ((heart_data < (Q1 - 1.5 * IQR)) | (heart_data > (Q3 + 1.5 * IQR))).sum()\n",
    "outliers_post_capping"
   ]
  },
  {
   "cell_type": "markdown",
   "id": "39bf7aa8",
   "metadata": {},
   "source": [
    "The number of outliers in 'trtbps', 'chol', 'thalachh', and 'oldpeak' has been reduced to zero. For 'fbs' and 'caa', outliers still exist."
   ]
  },
  {
   "cell_type": "code",
   "execution_count": 12,
   "id": "1c1b3774",
   "metadata": {},
   "outputs": [
    {
     "data": {
      "text/html": [
       "<div>\n",
       "<style scoped>\n",
       "    .dataframe tbody tr th:only-of-type {\n",
       "        vertical-align: middle;\n",
       "    }\n",
       "\n",
       "    .dataframe tbody tr th {\n",
       "        vertical-align: top;\n",
       "    }\n",
       "\n",
       "    .dataframe thead th {\n",
       "        text-align: right;\n",
       "    }\n",
       "</style>\n",
       "<table border=\"1\" class=\"dataframe\">\n",
       "  <thead>\n",
       "    <tr style=\"text-align: right;\">\n",
       "      <th></th>\n",
       "      <th>age</th>\n",
       "      <th>sex</th>\n",
       "      <th>cp</th>\n",
       "      <th>trtbps</th>\n",
       "      <th>chol</th>\n",
       "      <th>fbs</th>\n",
       "      <th>restecg</th>\n",
       "      <th>thalachh</th>\n",
       "      <th>exng</th>\n",
       "      <th>oldpeak</th>\n",
       "      <th>slp</th>\n",
       "      <th>caa</th>\n",
       "      <th>thall</th>\n",
       "      <th>output</th>\n",
       "    </tr>\n",
       "  </thead>\n",
       "  <tbody>\n",
       "    <tr>\n",
       "      <th>0</th>\n",
       "      <td>63</td>\n",
       "      <td>1</td>\n",
       "      <td>3</td>\n",
       "      <td>145</td>\n",
       "      <td>233.0</td>\n",
       "      <td>1</td>\n",
       "      <td>0</td>\n",
       "      <td>150.0</td>\n",
       "      <td>0</td>\n",
       "      <td>2.3</td>\n",
       "      <td>0</td>\n",
       "      <td>0</td>\n",
       "      <td>1</td>\n",
       "      <td>1</td>\n",
       "    </tr>\n",
       "    <tr>\n",
       "      <th>1</th>\n",
       "      <td>37</td>\n",
       "      <td>1</td>\n",
       "      <td>2</td>\n",
       "      <td>130</td>\n",
       "      <td>250.0</td>\n",
       "      <td>0</td>\n",
       "      <td>1</td>\n",
       "      <td>181.9</td>\n",
       "      <td>0</td>\n",
       "      <td>3.4</td>\n",
       "      <td>0</td>\n",
       "      <td>0</td>\n",
       "      <td>2</td>\n",
       "      <td>1</td>\n",
       "    </tr>\n",
       "    <tr>\n",
       "      <th>2</th>\n",
       "      <td>41</td>\n",
       "      <td>0</td>\n",
       "      <td>1</td>\n",
       "      <td>130</td>\n",
       "      <td>204.0</td>\n",
       "      <td>0</td>\n",
       "      <td>0</td>\n",
       "      <td>172.0</td>\n",
       "      <td>0</td>\n",
       "      <td>1.4</td>\n",
       "      <td>2</td>\n",
       "      <td>0</td>\n",
       "      <td>2</td>\n",
       "      <td>1</td>\n",
       "    </tr>\n",
       "    <tr>\n",
       "      <th>3</th>\n",
       "      <td>56</td>\n",
       "      <td>1</td>\n",
       "      <td>1</td>\n",
       "      <td>120</td>\n",
       "      <td>236.0</td>\n",
       "      <td>0</td>\n",
       "      <td>1</td>\n",
       "      <td>178.0</td>\n",
       "      <td>0</td>\n",
       "      <td>0.8</td>\n",
       "      <td>2</td>\n",
       "      <td>0</td>\n",
       "      <td>2</td>\n",
       "      <td>1</td>\n",
       "    </tr>\n",
       "    <tr>\n",
       "      <th>4</th>\n",
       "      <td>57</td>\n",
       "      <td>0</td>\n",
       "      <td>0</td>\n",
       "      <td>120</td>\n",
       "      <td>326.9</td>\n",
       "      <td>0</td>\n",
       "      <td>1</td>\n",
       "      <td>163.0</td>\n",
       "      <td>1</td>\n",
       "      <td>0.6</td>\n",
       "      <td>2</td>\n",
       "      <td>0</td>\n",
       "      <td>2</td>\n",
       "      <td>1</td>\n",
       "    </tr>\n",
       "  </tbody>\n",
       "</table>\n",
       "</div>"
      ],
      "text/plain": [
       "   age  sex  cp  trtbps   chol  fbs  restecg  thalachh  exng  oldpeak  slp  \\\n",
       "0   63    1   3     145  233.0    1        0     150.0     0      2.3    0   \n",
       "1   37    1   2     130  250.0    0        1     181.9     0      3.4    0   \n",
       "2   41    0   1     130  204.0    0        0     172.0     0      1.4    2   \n",
       "3   56    1   1     120  236.0    0        1     178.0     0      0.8    2   \n",
       "4   57    0   0     120  326.9    0        1     163.0     1      0.6    2   \n",
       "\n",
       "   caa  thall  output  \n",
       "0    0      1       1  \n",
       "1    0      2       1  \n",
       "2    0      2       1  \n",
       "3    0      2       1  \n",
       "4    0      2       1  "
      ]
     },
     "execution_count": 12,
     "metadata": {},
     "output_type": "execute_result"
    }
   ],
   "source": [
    "# Dataset after capping the outliers\n",
    "heart_data.head()\n"
   ]
  },
  {
   "cell_type": "code",
   "execution_count": 14,
   "id": "3832bc7b",
   "metadata": {},
   "outputs": [
    {
     "data": {
      "image/png": "[encoded data removed]",
      "text/plain": [
       "<Figure size 800x500 with 1 Axes>"
      ]
     },
     "metadata": {},
     "output_type": "display_data"
    }
   ],
   "source": [
    "import seaborn as sns\n",
    "# Visualization of the 'output' column\n",
    "plt.figure(figsize=(8, 5))\n",
    "sns.countplot(x='output', data=heart_data, palette='coolwarm_r')\n",
    "plt.title('Distribution of Heart Disease Cases')\n",
    "plt.xlabel('Heart Disease Presence')\n",
    "plt.ylabel('Count')\n",
    "plt.show()"
   ]
  },
  {
   "cell_type": "markdown",
   "id": "a7f579cc",
   "metadata": {},
   "source": [
    "The number of cases for individuals with heart disease appears to be higher than those without, suggesting a greater prevalence of heart disease in this particular dataset."
   ]
  },
  {
   "cell_type": "code",
   "execution_count": 15,
   "id": "571ec31b",
   "metadata": {},
   "outputs": [
    {
     "name": "stdout",
     "output_type": "stream",
     "text": [
      "output\n",
      "1    165\n",
      "0    138\n",
      "Name: count, dtype: int64\n"
     ]
    }
   ],
   "source": [
    "# Displaying the value counts for the 'output' column\n",
    "print(heart_data['output'].value_counts())"
   ]
  },
  {
   "cell_type": "markdown",
   "id": "5b9164dc",
   "metadata": {},
   "source": [
    "The next step is to prepare the dataset for machine learning model training. "
   ]
  },
  {
   "cell_type": "markdown",
   "id": "3c21d1d8",
   "metadata": {},
   "source": [
    "# Model Training"
   ]
  },
  {
   "cell_type": "markdown",
   "id": "df9e4066",
   "metadata": {},
   "source": [
    "First, splitting the dataset into traning and testing data"
   ]
  },
  {
   "cell_type": "code",
   "execution_count": 16,
   "id": "fff151e4",
   "metadata": {},
   "outputs": [
    {
     "data": {
      "text/plain": [
       "{'Training Features Shape': (242, 13),\n",
       " 'Training Labels Shape': (242,),\n",
       " 'Testing Features Shape': (61, 13),\n",
       " 'Testing Labels Shape': (61,)}"
      ]
     },
     "execution_count": 16,
     "metadata": {},
     "output_type": "execute_result"
    }
   ],
   "source": [
    "# Features and Target\n",
    "X = heart_data.drop('output', axis=1)  # all columns except 'output'\n",
    "y = heart_data['output']  # target variable\n",
    "\n",
    "# Splitting the dataset into training and testing sets (80% train, 20% test)\n",
    "X_train, X_test, y_train, y_test = train_test_split(X, y, test_size=0.2, random_state=42)\n",
    "\n",
    "# Output the shapes of the resulting datasets\n",
    "split_data_shapes = {\n",
    "    \"Training Features Shape\": X_train.shape,\n",
    "    \"Training Labels Shape\": y_train.shape,\n",
    "    \"Testing Features Shape\": X_test.shape,\n",
    "    \"Testing Labels Shape\": y_test.shape\n",
    "}\n",
    "\n",
    "split_data_shapes\n",
    "\n"
   ]
  },
  {
   "cell_type": "markdown",
   "id": "c0dd9aae",
   "metadata": {},
   "source": [
    "# Logistic Regression"
   ]
  },
  {
   "cell_type": "markdown",
   "id": "beec339d",
   "metadata": {},
   "source": [
    "We'll train a Logistic Regression model using the training data."
   ]
  },
  {
   "cell_type": "code",
   "execution_count": 17,
   "id": "21a1fa68",
   "metadata": {},
   "outputs": [],
   "source": [
    "# Initializing the Logistic Regression model\n",
    "log_reg = LogisticRegression(max_iter=1000)\n",
    "\n",
    "# Training the model\n",
    "log_reg.fit(X_train, y_train)\n",
    "\n",
    "# Predicting on the test set\n",
    "y_pred = log_reg.predict(X_test)\n"
   ]
  },
  {
   "cell_type": "markdown",
   "id": "2644463e",
   "metadata": {},
   "source": [
    "Now,after training, we'll evaluate the model's performance on the testing set using metrics like accuracy, precision, recall, and possibly the confusion matrix."
   ]
  },
  {
   "cell_type": "code",
   "execution_count": 18,
   "id": "481446d8",
   "metadata": {},
   "outputs": [
    {
     "data": {
      "text/plain": [
       "0.8688524590163934"
      ]
     },
     "execution_count": 18,
     "metadata": {},
     "output_type": "execute_result"
    }
   ],
   "source": [
    "accuracy = accuracy_score(y_test, y_pred)\n",
    "accuracy"
   ]
  },
  {
   "cell_type": "code",
   "execution_count": 19,
   "id": "179fe746",
   "metadata": {},
   "outputs": [
    {
     "data": {
      "text/plain": [
       "0.875"
      ]
     },
     "execution_count": 19,
     "metadata": {},
     "output_type": "execute_result"
    }
   ],
   "source": [
    "precision = precision_score(y_test, y_pred)\n",
    "precision"
   ]
  },
  {
   "cell_type": "code",
   "execution_count": 20,
   "id": "9ec46efd",
   "metadata": {},
   "outputs": [
    {
     "data": {
      "text/plain": [
       "0.875"
      ]
     },
     "execution_count": 20,
     "metadata": {},
     "output_type": "execute_result"
    }
   ],
   "source": [
    "recall = recall_score(y_test, y_pred)\n",
    "recall"
   ]
  },
  {
   "cell_type": "code",
   "execution_count": 21,
   "id": "ca9b7ab8",
   "metadata": {},
   "outputs": [
    {
     "data": {
      "text/plain": [
       "array([[25,  4],\n",
       "       [ 4, 28]])"
      ]
     },
     "execution_count": 21,
     "metadata": {},
     "output_type": "execute_result"
    }
   ],
   "source": [
    "conf_matrix = confusion_matrix(y_test, y_pred)\n",
    "conf_matrix"
   ]
  },
  {
   "cell_type": "markdown",
   "id": "fc8a958c",
   "metadata": {},
   "source": [
    "Evaluation Metrics of the Logistic regression model gives accuracy as 86.89%, precision as 87.5%, recall as 87.5% and confusion matrix as follows\n",
    "True Negative (TN): 25\n",
    "False Positive (FP): 4\n",
    "False Negative (FN): 4\n",
    "True Positive (TP): 28"
   ]
  },
  {
   "cell_type": "code",
   "execution_count": 22,
   "id": "1ec22e9a",
   "metadata": {},
   "outputs": [
    {
     "name": "stdout",
     "output_type": "stream",
     "text": [
      "Training accuracy: 0.8636363636363636\n",
      "Testing accuracy: 0.8688524590163934\n"
     ]
    }
   ],
   "source": [
    "# Evaluate the model on the training data\n",
    "train_accuracy = log_reg.score(X_train, y_train)\n",
    "print(\"Training accuracy:\", train_accuracy)\n",
    "\n",
    "# Evaluate the model on the testing data\n",
    "test_accuracy = log_reg.score(X_test, y_test)\n",
    "print(\"Testing accuracy:\", test_accuracy)"
   ]
  },
  {
   "cell_type": "markdown",
   "id": "df00bcb7",
   "metadata": {},
   "source": [
    "To find the most effective approach for this classification, let's explore two different machine learning models."
   ]
  },
  {
   "cell_type": "markdown",
   "id": "b780cf47",
   "metadata": {},
   "source": [
    "# Random Forest Classifier"
   ]
  },
  {
   "cell_type": "code",
   "execution_count": 23,
   "id": "e58b095d",
   "metadata": {},
   "outputs": [],
   "source": [
    "# Initializing the Random Forest Classifier\n",
    "rf_classifier = RandomForestClassifier(random_state=42)\n",
    "\n",
    "# Training the Random Forest Classifier\n",
    "rf_classifier.fit(X_train, y_train)\n",
    "\n",
    "# Predicting on the test set with Random Forest\n",
    "y_pred_rf = rf_classifier.predict(X_test)"
   ]
  },
  {
   "cell_type": "code",
   "execution_count": 24,
   "id": "e545a584",
   "metadata": {},
   "outputs": [
    {
     "data": {
      "text/plain": [
       "0.8524590163934426"
      ]
     },
     "execution_count": 24,
     "metadata": {},
     "output_type": "execute_result"
    }
   ],
   "source": [
    "accuracy_rf = accuracy_score(y_test, y_pred_rf)\n",
    "accuracy_rf"
   ]
  },
  {
   "cell_type": "code",
   "execution_count": 25,
   "id": "70ee9671",
   "metadata": {},
   "outputs": [
    {
     "data": {
      "text/plain": [
       "0.8484848484848485"
      ]
     },
     "execution_count": 25,
     "metadata": {},
     "output_type": "execute_result"
    }
   ],
   "source": [
    "precision_rf = precision_score(y_test, y_pred_rf)\n",
    "precision_rf"
   ]
  },
  {
   "cell_type": "code",
   "execution_count": 26,
   "id": "620e5be3",
   "metadata": {},
   "outputs": [
    {
     "data": {
      "text/plain": [
       "0.875"
      ]
     },
     "execution_count": 26,
     "metadata": {},
     "output_type": "execute_result"
    }
   ],
   "source": [
    "recall_rf = recall_score(y_test, y_pred_rf)\n",
    "recall_rf"
   ]
  },
  {
   "cell_type": "code",
   "execution_count": 27,
   "id": "b3acad45",
   "metadata": {},
   "outputs": [
    {
     "data": {
      "text/plain": [
       "array([[24,  5],\n",
       "       [ 4, 28]])"
      ]
     },
     "execution_count": 27,
     "metadata": {},
     "output_type": "execute_result"
    }
   ],
   "source": [
    "conf_matrix_rf = confusion_matrix(y_test, y_pred_rf)\n",
    "conf_matrix_rf"
   ]
  },
  {
   "cell_type": "markdown",
   "id": "e8c6eccd",
   "metadata": {},
   "source": [
    "Evaluation Metrics of a Random Forest Classifier gives accuracy as 85.25%, precision as 84.85%, recall as 87.5% and confusion matrix as follows True Negative (TN): 24\n",
    "False Positive (FP): 5\n",
    "False Negative (FN): 4\n",
    "True Positive (TP): 28"
   ]
  },
  {
   "cell_type": "code",
   "execution_count": 28,
   "id": "e9cdf342",
   "metadata": {},
   "outputs": [
    {
     "name": "stdout",
     "output_type": "stream",
     "text": [
      "Training accuracy: 1.0\n",
      "Testing accuracy: 0.8524590163934426\n"
     ]
    }
   ],
   "source": [
    "# Evaluate the model on the training data\n",
    "train_accuracy_rf = rf_classifier.score(X_train, y_train)\n",
    "print(\"Training accuracy:\", train_accuracy_rf)\n",
    "\n",
    "# Evaluate the model on the testing data\n",
    "test_accuracy_rf = rf_classifier.score(X_test, y_test)\n",
    "print(\"Testing accuracy:\", test_accuracy_rf)"
   ]
  },
  {
   "cell_type": "markdown",
   "id": "c4d26945",
   "metadata": {},
   "source": [
    "# Support Vector Machine"
   ]
  },
  {
   "cell_type": "code",
   "execution_count": 29,
   "id": "1a6c019a",
   "metadata": {},
   "outputs": [],
   "source": [
    "# Initializing the Support Vector Machine\n",
    "svm_classifier = SVC()\n",
    "\n",
    "# Training the Support Vector Machine\n",
    "svm_classifier.fit(X_train, y_train)\n",
    "\n",
    "# Predicting on the test set with SVM\n",
    "y_pred_svm = svm_classifier.predict(X_test)"
   ]
  },
  {
   "cell_type": "code",
   "execution_count": 30,
   "id": "2a161af2",
   "metadata": {},
   "outputs": [
    {
     "data": {
      "text/plain": [
       "0.6885245901639344"
      ]
     },
     "execution_count": 30,
     "metadata": {},
     "output_type": "execute_result"
    }
   ],
   "source": [
    "accuracy_svm = accuracy_score(y_test, y_pred_svm)\n",
    "accuracy_svm"
   ]
  },
  {
   "cell_type": "code",
   "execution_count": 31,
   "id": "622beedb",
   "metadata": {},
   "outputs": [
    {
     "data": {
      "text/plain": [
       "0.6585365853658537"
      ]
     },
     "execution_count": 31,
     "metadata": {},
     "output_type": "execute_result"
    }
   ],
   "source": [
    "precision_svm = precision_score(y_test, y_pred_svm)\n",
    "precision_svm"
   ]
  },
  {
   "cell_type": "code",
   "execution_count": 32,
   "id": "7dcb3f13",
   "metadata": {},
   "outputs": [
    {
     "data": {
      "text/plain": [
       "0.84375"
      ]
     },
     "execution_count": 32,
     "metadata": {},
     "output_type": "execute_result"
    }
   ],
   "source": [
    "recall_svm = recall_score(y_test, y_pred_svm)\n",
    "recall_svm"
   ]
  },
  {
   "cell_type": "code",
   "execution_count": 33,
   "id": "a6b903d1",
   "metadata": {},
   "outputs": [
    {
     "data": {
      "text/plain": [
       "array([[15, 14],\n",
       "       [ 5, 27]])"
      ]
     },
     "execution_count": 33,
     "metadata": {},
     "output_type": "execute_result"
    }
   ],
   "source": [
    "conf_matrix_svm = confusion_matrix(y_test, y_pred_svm)\n",
    "conf_matrix_svm"
   ]
  },
  {
   "cell_type": "markdown",
   "id": "8036b41d",
   "metadata": {},
   "source": [
    "Evaluation Metrics of a SVM gives accuracy as 68.85%, precision as 65.85%, recall: 84.38%, confusion matrix as follows\n",
    "True Negative (TN): 15\n",
    "False Positive (FP): 14\n",
    "False Negative (FN): 5\n",
    "True Positive (TP): 27"
   ]
  },
  {
   "cell_type": "code",
   "execution_count": 34,
   "id": "bdd09988",
   "metadata": {},
   "outputs": [
    {
     "name": "stdout",
     "output_type": "stream",
     "text": [
      "Training accuracy: 0.6735537190082644\n",
      "Testing accuracy: 0.6885245901639344\n"
     ]
    }
   ],
   "source": [
    "# Evaluate the model on the training data\n",
    "train_accuracy_svm = svm_classifier.score(X_train, y_train)\n",
    "print(\"Training accuracy:\", train_accuracy_svm)\n",
    "\n",
    "# Evaluate the model on the testing data\n",
    "test_accuracy_svm = svm_classifier.score(X_test, y_test)\n",
    "print(\"Testing accuracy:\", test_accuracy_svm)"
   ]
  },
  {
   "cell_type": "code",
   "execution_count": 35,
   "id": "ef88126e",
   "metadata": {},
   "outputs": [
    {
     "data": {
      "image/png": "[encoded data removed]",
      "text/plain": [
       "<Figure size 640x480 with 2 Axes>"
      ]
     },
     "metadata": {},
     "output_type": "display_data"
    },
    {
     "name": "stdout",
     "output_type": "stream",
     "text": [
      "              precision    recall  f1-score   support\n",
      "\n",
      "           0       0.86      0.86      0.86        29\n",
      "           1       0.88      0.88      0.88        32\n",
      "\n",
      "    accuracy                           0.87        61\n",
      "   macro avg       0.87      0.87      0.87        61\n",
      "weighted avg       0.87      0.87      0.87        61\n",
      "\n"
     ]
    }
   ],
   "source": [
    "from sklearn.metrics import confusion_matrix, classification_report\n",
    "labels = np.unique(y)\n",
    "cm = confusion_matrix(y_test, y_pred, labels=labels)\n",
    "plt.imshow(cm, interpolation='nearest', cmap=plt.cm.Blues)\n",
    "plt.title(\"Confusion Matrix\")\n",
    "plt.colorbar()\n",
    "tick_marks = np.arange(len(labels))\n",
    "plt.xticks(tick_marks, labels, rotation=45)\n",
    "plt.yticks(tick_marks, labels)\n",
    "plt.xlabel(\"Predicted Class\")\n",
    "plt.ylabel(\"True Class\")\n",
    "plt.show()\n",
    "# Print classification report\n",
    "report = classification_report(y_test, y_pred, labels=labels)\n",
    "print(report)"
   ]
  },
  {
   "cell_type": "markdown",
   "id": "0731a18c",
   "metadata": {},
   "source": [
    "From the confusion matrix above, we see that the model is performing better in identifying class=1 with a precision and recall of 0.88 and 0.88 respectively. The performance for class=0 is not bad either."
   ]
  },
  {
   "cell_type": "markdown",
   "id": "54254f53",
   "metadata": {},
   "source": [
    "After comparing all the models Logistic Regression model shows better performance across all metrics. It has higher accuracy and precision, indicating a more balanced approach to classifying both classes."
   ]
  },
  {
   "cell_type": "markdown",
   "id": "73028376",
   "metadata": {},
   "source": [
    "# Feature Importance"
   ]
  },
  {
   "cell_type": "code",
   "execution_count": 36,
   "id": "c780b352",
   "metadata": {},
   "outputs": [],
   "source": [
    "# Extracting feature importances from the Random Forest model\n",
    "feature_importances = rf_classifier.feature_importances_"
   ]
  },
  {
   "cell_type": "code",
   "execution_count": 37,
   "id": "95e103e5",
   "metadata": {},
   "outputs": [],
   "source": [
    "# Creating a series with feature names and their importance scores\n",
    "importances = pd.Series(feature_importances, index=X.columns)"
   ]
  },
  {
   "cell_type": "code",
   "execution_count": 38,
   "id": "369c1c23",
   "metadata": {},
   "outputs": [],
   "source": [
    "# Sorting the features based on importance\n",
    "sorted_importances = importances.sort_values(ascending=False)"
   ]
  },
  {
   "cell_type": "code",
   "execution_count": 39,
   "id": "5b0f59b5",
   "metadata": {},
   "outputs": [
    {
     "data": {
      "image/png": "[encoded data removed]",
      "text/plain": [
       "<Figure size 1000x600 with 1 Axes>"
      ]
     },
     "metadata": {},
     "output_type": "display_data"
    }
   ],
   "source": [
    "# Plotting\n",
    "plt.figure(figsize=(10,6))\n",
    "sorted_importances.plot(kind='bar')\n",
    "plt.title('Feature Importances in Random Forest Classifier')\n",
    "plt.ylabel('Importance')\n",
    "plt.xlabel('Features')\n",
    "plt.show()"
   ]
  },
  {
   "cell_type": "markdown",
   "id": "3a8d8864",
   "metadata": {},
   "source": [
    "The most important features are primarily clinical measurements, such as oldpeak, thalachh, and caa, which are critical in diagnosing heart disease. And the least important features are sex, restecg, and fbs (fasting blood sugar) have lower importance scores."
   ]
  },
  {
   "cell_type": "code",
   "execution_count": 40,
   "id": "1b8c35ef",
   "metadata": {},
   "outputs": [
    {
     "data": {
      "text/plain": [
       "oldpeak     0.131847\n",
       "thalachh    0.122030\n",
       "caa         0.113329\n",
       "cp          0.108264\n",
       "thall       0.093650\n",
       "age         0.091891\n",
       "exng        0.075673\n",
       "trtbps      0.072324\n",
       "chol        0.072277\n",
       "slp         0.050512\n",
       "sex         0.036674\n",
       "restecg     0.019396\n",
       "fbs         0.012134\n",
       "dtype: float64"
      ]
     },
     "execution_count": 40,
     "metadata": {},
     "output_type": "execute_result"
    }
   ],
   "source": [
    "# Outputting the sorted importances for reference\n",
    "sorted_importances"
   ]
  },
  {
   "cell_type": "markdown",
   "id": "8217c7ce",
   "metadata": {},
   "source": [
    "# Data Analysis"
   ]
  },
  {
   "cell_type": "markdown",
   "id": "ba218ee9",
   "metadata": {},
   "source": [
    "Now visualizing the cleaned data using box plot"
   ]
  },
  {
   "cell_type": "code",
   "execution_count": 41,
   "id": "f839d0f3",
   "metadata": {},
   "outputs": [
    {
     "data": {
      "image/png": "[encoded data removed]",
      "text/plain": [
       "<Figure size 1800x500 with 1 Axes>"
      ]
     },
     "metadata": {},
     "output_type": "display_data"
    }
   ],
   "source": [
    "import seaborn as sns\n",
    "\n",
    "# Setting up the plotting area\n",
    "plt.figure(figsize=(18, 5))\n",
    "\n",
    "# Plotting oldpeak vs output\n",
    "plt.subplot(1, 3, 1)\n",
    "sns.boxplot(x='output', y='oldpeak', data=heart_data)\n",
    "plt.title('Oldpeak vs Heart Disease')\n",
    "plt.tight_layout()\n",
    "plt.show()\n",
    "\n"
   ]
  },
  {
   "cell_type": "code",
   "execution_count": 42,
   "id": "89481674",
   "metadata": {},
   "outputs": [
    {
     "data": {
      "image/png": "[encoded data removed]",
      "text/plain": [
       "<Figure size 1800x500 with 1 Axes>"
      ]
     },
     "metadata": {},
     "output_type": "display_data"
    }
   ],
   "source": [
    "# Setting up the plotting area\n",
    "plt.figure(figsize=(18, 5))# Plotting thalachh vs output\n",
    "plt.subplot(1, 3, 2)\n",
    "sns.boxplot(x='output', y='thalachh', data=heart_data)\n",
    "plt.title('Thalachh (Max Heart Rate) vs Heart Disease')\n",
    "plt.tight_layout()\n",
    "plt.show()"
   ]
  },
  {
   "cell_type": "code",
   "execution_count": 43,
   "id": "c1d93b1f",
   "metadata": {},
   "outputs": [
    {
     "data": {
      "image/png": "[encoded data removed]",
      "text/plain": [
       "<Figure size 1800x500 with 1 Axes>"
      ]
     },
     "metadata": {},
     "output_type": "display_data"
    }
   ],
   "source": [
    "# Setting up the plotting area\n",
    "plt.figure(figsize=(18, 5))\n",
    "# Plotting caa vs output\n",
    "plt.subplot(1, 3, 3)\n",
    "sns.boxplot(x='output', y='caa', data=heart_data)\n",
    "plt.title('Caa (Number of Major Vessels) vs Heart Disease')\n",
    "plt.tight_layout()\n",
    "plt.show()"
   ]
  },
  {
   "cell_type": "code",
   "execution_count": 44,
   "id": "92ec020a",
   "metadata": {},
   "outputs": [
    {
     "data": {
      "text/plain": [
       "{'Oldpeak T-Test': {'T-Statistic': -8.514322579027667,\n",
       "  'P-Value': 8.093793541351306e-16},\n",
       " 'Thalachh T-Test': {'T-Statistic': 8.148873509161696,\n",
       "  'P-Value': 9.944375387380558e-15},\n",
       " 'Caa Chi-Squared Test': {'Chi2 Statistic': 67.5525238925834,\n",
       "  'P-Value': 1.4262926080180113e-14}}"
      ]
     },
     "execution_count": 44,
     "metadata": {},
     "output_type": "execute_result"
    }
   ],
   "source": [
    "# Separating the dataset into two groups: with and without heart disease\n",
    "group_with_disease = heart_data[heart_data['output'] == 1]\n",
    "group_without_disease = heart_data[heart_data['output'] == 0]\n",
    "\n",
    "# T-Test for 'oldpeak'\n",
    "t_stat_oldpeak, p_val_oldpeak = ttest_ind(group_with_disease['oldpeak'], group_without_disease['oldpeak'])\n",
    "\n",
    "# T-Test for 'thalachh'\n",
    "t_stat_thalachh, p_val_thalachh = ttest_ind(group_with_disease['thalachh'], group_without_disease['thalachh'])\n",
    "\n",
    "# Preparing data for Chi-Squared Test for 'caa'\n",
    "contingency_table_caa = pd.crosstab(heart_data['caa'], heart_data['output'])\n",
    "chi2_stat_caa, p_val_caa, _, _ = chi2_contingency(contingency_table_caa)\n",
    "\n",
    "# Compile the results\n",
    "statistical_test_results = {\n",
    "    \"Oldpeak T-Test\": {\"T-Statistic\": t_stat_oldpeak, \"P-Value\": p_val_oldpeak},\n",
    "    \"Thalachh T-Test\": {\"T-Statistic\": t_stat_thalachh, \"P-Value\": p_val_thalachh},\n",
    "    \"Caa Chi-Squared Test\": {\"Chi2 Statistic\": chi2_stat_caa, \"P-Value\": p_val_caa}\n",
    "}\n",
    "\n",
    "statistical_test_results\n",
    "\n"
   ]
  },
  {
   "cell_type": "markdown",
   "id": "6ee69339",
   "metadata": {},
   "source": [
    "The Oldpeak test compares the 'oldpeak' values between patients with and without heart disease. The negative T-statistic indicates that the average 'oldpeak' is lower in patients without heart disease compared to those with heart disease. \n",
    "The Thalachh T-test is for 'thalachh' (maximum heart rate achieved). The positive T-statistic indicates that the average 'thalachh' is higher in patients with heart disease compared to those without.\n",
    "The high Chi2 statistic and very low P-value suggest a strong and statistically significant association between the number of major vessels detected and the presence of heart disease.\n",
    "These test results strongly suggest that 'oldpeak', 'thalachh', and 'caa' are significantly associated with the presence of heart disease. "
   ]
  },
  {
   "cell_type": "markdown",
   "id": "6fa1ce62",
   "metadata": {},
   "source": [
    "## Conclusion"
   ]
  },
  {
   "cell_type": "markdown",
   "id": "7779bc0a",
   "metadata": {},
   "source": [
    "In this analysis, I delved into the complexities of predicting heart disease using a heart dataset comprising various medical attributes. \n",
    "Through rigorous data cleaning, profiling, normalization, and handling outliers, I prepared the dataset for effective analysis. \n",
    "The application of statistical and machine learning techniques provided valuable insights into the factors influencing heart disease.\n",
    "The analysis revealed significant predictors of heart disease, such as Output.\n",
    "The data visualization techniques helped in understanding the distribution and relationship of these factors.\n",
    "By comparing the machine learning models, Logistic Regression,RandomForest Classifier and Support Vector Machine we came to a conclusion that the Logistic Regression model is the best as it demonstrated a better performance in accuracy as 86.89%, precision as 87.5% in predicting heart disease, highlighting its potential in aiding early diagnosis.\n",
    "This study highlights the critical role of data analysis in healthcare and opens avenues for future research that could contribute to better understanding and managing heart disease.\n"
   ]
  },
  {
   "cell_type": "markdown",
   "id": "d79ea3df",
   "metadata": {},
   "source": [
    "## References\n",
    "\n",
    "1. Dataset: https://www.kaggle.com/datasets/rashikrahmanpritom/heart-attack-analysis-prediction-dataset?select=heart.csv\n",
    "\n",
    "2. Owner - AI Skunkworks Link:https://github.com/aiskunks/Skunks_Skool\n",
    "\n",
    "3. Science Direct: https://www.sciencedirect.com/science/article/pii/S1877050920315210\n",
    "\n",
    "4. Code Reference: https://github.com/nikbearbrown/INFO_7390_Art_and_Science_of_Data/tree/main/Understanding_Data\n",
    "\n",
    "5. ChatGPT: https://chat.openai.com/share/24229415-7885-4259-be4d-611a0fd73d49"
   ]
  },
  {
   "cell_type": "markdown",
   "id": "d0ce9f8a",
   "metadata": {},
   "source": [
    "# License\n",
    "\n",
    "## Copyright 2024 Akanksha Nakati\n",
    "\n",
    "Permission is hereby granted, free of charge, to any person obtaining a copy of this software and associated documentation files (the \"Software\"), to deal in the Software without restriction, including without limitation the rights to use, copy, modify, merge, publish, distribute, sublicense, and/or sell copies of the Software, and to permit persons to whom the Software is furnished to do so, subject to the following conditions:\n",
    "\n",
    "The above copyright notice and this permission notice shall be included in all copies or substantial portions of the Software.\n",
    "\n",
    "THE SOFTWARE IS PROVIDED \"AS IS\", WITHOUT WARRANTY OF ANY KIND, EXPRESS OR IMPLIED, INCLUDING BUT NOT LIMITED TO THE WARRANTIES OF MERCHANTABILITY, FITNESS FOR A PARTICULAR PURPOSE AND NONINFRINGEMENT. IN NO EVENT SHALL THE AUTHORS OR COPYRIGHT HOLDERS BE LIABLE FOR ANY CLAIM, DAMAGES OR OTHER LIABILITY, WHETHER IN AN ACTION OF CONTRACT, TORT OR OTHERWISE, ARISING FROM, OUT OF OR IN CONNECTION WITH THE SOFTWARE OR THE USE OR OTHER DEALINGS IN THE SOFTWARE."
   ]
  },
  {
   "cell_type": "code",
   "execution_count": null,
   "id": "0e61e3d2",
   "metadata": {},
   "outputs": [],
   "source": []
  }
 ],
 "metadata": {
  "kernelspec": {
   "display_name": "Python 3 (ipykernel)",
   "language": "python",
   "name": "python3"
  },
  "language_info": {
   "codemirror_mode": {
    "name": "ipython",
    "version": 3
   },
   "file_extension": ".py",
   "mimetype": "text/x-python",
   "name": "python",
   "nbconvert_exporter": "python",
   "pygments_lexer": "ipython3",
   "version": "3.11.5"
  }
 },
 "nbformat": 4,
 "nbformat_minor": 5
}
